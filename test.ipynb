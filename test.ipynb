{
 "cells": [
  {
   "cell_type": "code",
   "id": "initial_id",
   "metadata": {
    "collapsed": true,
    "ExecuteTime": {
     "end_time": "2024-11-23T21:31:27.630368Z",
     "start_time": "2024-11-23T21:31:27.626541Z"
    }
   },
   "source": [
    "import numpy as np\n",
    "import pandas as pd\n",
    "from hampel._filters import hampel\n",
    "from scipy.ndimage import median_filter"
   ],
   "outputs": [],
   "execution_count": 69
  },
  {
   "metadata": {
    "ExecuteTime": {
     "end_time": "2024-11-23T21:31:27.652556Z",
     "start_time": "2024-11-23T21:31:27.642053Z"
    }
   },
   "cell_type": "code",
   "source": [
    "fs = 20000\n",
    "freq = 13.47\n",
    "impulse_intervals = 287\n",
    "time = 2\n",
    "dc_amp = 3.1\n",
    "arr_len = fs * time\n",
    "win_len = 101\n",
    "thresh = 3\n",
    "t = np.arange(arr_len) / fs\n",
    "np.random.seed(42)\n",
    "x = t * dc_amp + np.sin(t * 2 * np.pi * freq) + np.random.randn(arr_len)\n",
    "x[::impulse_intervals] += np.random.randn(arr_len)[::impulse_intervals] * 5"
   ],
   "id": "827f66b97a7b6099",
   "outputs": [],
   "execution_count": 70
  },
  {
   "metadata": {
    "ExecuteTime": {
     "end_time": "2024-11-23T21:31:27.703182Z",
     "start_time": "2024-11-23T21:31:27.677198Z"
    }
   },
   "cell_type": "code",
   "source": "x_hampel, median, mad = hampel(x, win_size=win_len, thresh=thresh)",
   "id": "4c833c83bffe6448",
   "outputs": [],
   "execution_count": 71
  },
  {
   "metadata": {
    "ExecuteTime": {
     "end_time": "2024-11-23T21:31:27.773372Z",
     "start_time": "2024-11-23T21:31:27.723673Z"
    }
   },
   "cell_type": "code",
   "source": "median_ref = median_filter(x, size=win_len, mode='nearest')",
   "id": "7192400b07d4346b",
   "outputs": [],
   "execution_count": 72
  },
  {
   "metadata": {
    "ExecuteTime": {
     "end_time": "2024-11-23T21:31:31.712733Z",
     "start_time": "2024-11-23T21:31:27.797366Z"
    }
   },
   "cell_type": "code",
   "source": "%timeit median_filter(x, size=win_len, mode='nearest')",
   "id": "76960b3530ad5ffb",
   "outputs": [
    {
     "name": "stdout",
     "output_type": "stream",
     "text": [
      "47.8 ms ± 405 µs per loop (mean ± std. dev. of 7 runs, 10 loops each)\n"
     ]
    }
   ],
   "execution_count": 73
  },
  {
   "metadata": {
    "ExecuteTime": {
     "end_time": "2024-11-23T21:31:33.713599Z",
     "start_time": "2024-11-23T21:31:31.736658Z"
    }
   },
   "cell_type": "code",
   "source": "%timeit hampel(x, win_size=win_len, thresh=thresh)",
   "id": "c004d6fd2fd25b67",
   "outputs": [
    {
     "name": "stdout",
     "output_type": "stream",
     "text": [
      "24.6 ms ± 731 µs per loop (mean ± std. dev. of 7 runs, 10 loops each)\n"
     ]
    }
   ],
   "execution_count": 74
  },
  {
   "metadata": {
    "ExecuteTime": {
     "end_time": "2024-11-23T21:31:42.449127Z",
     "start_time": "2024-11-23T21:31:33.743095Z"
    }
   },
   "cell_type": "code",
   "source": [
    "x_ped = np.concatenate([np.ones(win_len) * x[0], x, np.ones(win_len) * x[-1]])\n",
    "mad_ref = pd.Series(x_ped).rolling(window=win_len, center=True).apply(lambda x: np.median(np.abs(x - np.median(x))))[win_len:-win_len].values\n",
    "x_hampel_ref = np.where(np.abs(x - median_ref) > thresh * mad_ref, median_ref, x)"
   ],
   "id": "6ef75bb6578a119f",
   "outputs": [],
   "execution_count": 75
  },
  {
   "metadata": {
    "ExecuteTime": {
     "end_time": "2024-11-23T21:31:42.477741Z",
     "start_time": "2024-11-23T21:31:42.472998Z"
    }
   },
   "cell_type": "code",
   "source": "(median==median_ref).all() and (mad==mad_ref).all() and (x_hampel==x_hampel_ref).all()",
   "id": "b87d543e37e9dc3",
   "outputs": [
    {
     "data": {
      "text/plain": [
       "True"
      ]
     },
     "execution_count": 76,
     "metadata": {},
     "output_type": "execute_result"
    }
   ],
   "execution_count": 76
  }
 ],
 "metadata": {
  "kernelspec": {
   "display_name": "Python 3",
   "language": "python",
   "name": "python3"
  },
  "language_info": {
   "codemirror_mode": {
    "name": "ipython",
    "version": 2
   },
   "file_extension": ".py",
   "mimetype": "text/x-python",
   "name": "python",
   "nbconvert_exporter": "python",
   "pygments_lexer": "ipython2",
   "version": "2.7.6"
  }
 },
 "nbformat": 4,
 "nbformat_minor": 5
}
