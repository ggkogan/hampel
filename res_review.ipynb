{
 "cells": [
  {
   "metadata": {
    "ExecuteTime": {
     "end_time": "2024-06-06T09:34:57.117260Z",
     "start_time": "2024-06-06T09:34:57.111019Z"
    }
   },
   "cell_type": "code",
   "source": [
    "import pandas as pd\n",
    "import numpy as np\n",
    "from scipy.signal import medfilt\n",
    "import matplotlib.pyplot as plt\n",
    "import os\n",
    "from scipy import version\n",
    "version.version"
   ],
   "id": "1e70828b1469ca2e",
   "outputs": [
    {
     "data": {
      "text/plain": [
       "'1.12.0'"
      ]
     },
     "execution_count": 10,
     "metadata": {},
     "output_type": "execute_result"
    }
   ],
   "execution_count": 10
  },
  {
   "metadata": {
    "ExecuteTime": {
     "end_time": "2024-06-06T09:34:57.644034Z",
     "start_time": "2024-06-06T09:34:57.118792Z"
    }
   },
   "cell_type": "code",
   "source": [
    "windsize = 51\n",
    "scale = 2.8\n",
    "os.system(f'./hampel {windsize} {scale}')"
   ],
   "id": "db156edc5a0e2e43",
   "outputs": [
    {
     "name": "stdout",
     "output_type": "stream",
     "text": [
      "Time taken: 8.947000 miliseconds for window size 51 and signal size 40000, used scale 2.800000 \n",
      "Output for window size 51 created\n"
     ]
    },
    {
     "data": {
      "text/plain": [
       "0"
      ]
     },
     "execution_count": 11,
     "metadata": {},
     "output_type": "execute_result"
    }
   ],
   "execution_count": 11
  },
  {
   "metadata": {
    "ExecuteTime": {
     "end_time": "2024-06-06T09:34:57.706813Z",
     "start_time": "2024-06-06T09:34:57.645931Z"
    }
   },
   "cell_type": "code",
   "source": [
    "df = pd.read_csv(f'output{windsize}.csv', float_precision='high')\n",
    "df"
   ],
   "id": "96bc89ec016951d7",
   "outputs": [
    {
     "data": {
      "text/plain": [
       "          time     input    output    median       MAD\n",
       "0      0.00000 -4.585333 -4.585333 -4.585333  0.000000\n",
       "1      0.00005 -3.107299 -3.107299 -3.130063  0.193843\n",
       "2      0.00010 -3.099761 -3.099761 -3.116114  0.144568\n",
       "3      0.00015 -3.130063 -3.130063 -3.111819  0.140274\n",
       "4      0.00020 -3.033141 -3.033141 -3.107299  0.135754\n",
       "...        ...       ...       ...       ...       ...\n",
       "39995  1.99975  2.756957  2.756957  2.733691  0.037662\n",
       "39996  1.99980  2.726058  2.726058  2.741503  0.029850\n",
       "39997  1.99985  2.675930  2.751100  2.751100  0.020253\n",
       "39998  1.99990  2.751100  2.751100  2.756957  0.014395\n",
       "39999  1.99995  2.771353  2.771353  2.771353  0.000000\n",
       "\n",
       "[40000 rows x 5 columns]"
      ],
      "text/html": [
       "<div>\n",
       "<style scoped>\n",
       "    .dataframe tbody tr th:only-of-type {\n",
       "        vertical-align: middle;\n",
       "    }\n",
       "\n",
       "    .dataframe tbody tr th {\n",
       "        vertical-align: top;\n",
       "    }\n",
       "\n",
       "    .dataframe thead th {\n",
       "        text-align: right;\n",
       "    }\n",
       "</style>\n",
       "<table border=\"1\" class=\"dataframe\">\n",
       "  <thead>\n",
       "    <tr style=\"text-align: right;\">\n",
       "      <th></th>\n",
       "      <th>time</th>\n",
       "      <th>input</th>\n",
       "      <th>output</th>\n",
       "      <th>median</th>\n",
       "      <th>MAD</th>\n",
       "    </tr>\n",
       "  </thead>\n",
       "  <tbody>\n",
       "    <tr>\n",
       "      <th>0</th>\n",
       "      <td>0.00000</td>\n",
       "      <td>-4.585333</td>\n",
       "      <td>-4.585333</td>\n",
       "      <td>-4.585333</td>\n",
       "      <td>0.000000</td>\n",
       "    </tr>\n",
       "    <tr>\n",
       "      <th>1</th>\n",
       "      <td>0.00005</td>\n",
       "      <td>-3.107299</td>\n",
       "      <td>-3.107299</td>\n",
       "      <td>-3.130063</td>\n",
       "      <td>0.193843</td>\n",
       "    </tr>\n",
       "    <tr>\n",
       "      <th>2</th>\n",
       "      <td>0.00010</td>\n",
       "      <td>-3.099761</td>\n",
       "      <td>-3.099761</td>\n",
       "      <td>-3.116114</td>\n",
       "      <td>0.144568</td>\n",
       "    </tr>\n",
       "    <tr>\n",
       "      <th>3</th>\n",
       "      <td>0.00015</td>\n",
       "      <td>-3.130063</td>\n",
       "      <td>-3.130063</td>\n",
       "      <td>-3.111819</td>\n",
       "      <td>0.140274</td>\n",
       "    </tr>\n",
       "    <tr>\n",
       "      <th>4</th>\n",
       "      <td>0.00020</td>\n",
       "      <td>-3.033141</td>\n",
       "      <td>-3.033141</td>\n",
       "      <td>-3.107299</td>\n",
       "      <td>0.135754</td>\n",
       "    </tr>\n",
       "    <tr>\n",
       "      <th>...</th>\n",
       "      <td>...</td>\n",
       "      <td>...</td>\n",
       "      <td>...</td>\n",
       "      <td>...</td>\n",
       "      <td>...</td>\n",
       "    </tr>\n",
       "    <tr>\n",
       "      <th>39995</th>\n",
       "      <td>1.99975</td>\n",
       "      <td>2.756957</td>\n",
       "      <td>2.756957</td>\n",
       "      <td>2.733691</td>\n",
       "      <td>0.037662</td>\n",
       "    </tr>\n",
       "    <tr>\n",
       "      <th>39996</th>\n",
       "      <td>1.99980</td>\n",
       "      <td>2.726058</td>\n",
       "      <td>2.726058</td>\n",
       "      <td>2.741503</td>\n",
       "      <td>0.029850</td>\n",
       "    </tr>\n",
       "    <tr>\n",
       "      <th>39997</th>\n",
       "      <td>1.99985</td>\n",
       "      <td>2.675930</td>\n",
       "      <td>2.751100</td>\n",
       "      <td>2.751100</td>\n",
       "      <td>0.020253</td>\n",
       "    </tr>\n",
       "    <tr>\n",
       "      <th>39998</th>\n",
       "      <td>1.99990</td>\n",
       "      <td>2.751100</td>\n",
       "      <td>2.751100</td>\n",
       "      <td>2.756957</td>\n",
       "      <td>0.014395</td>\n",
       "    </tr>\n",
       "    <tr>\n",
       "      <th>39999</th>\n",
       "      <td>1.99995</td>\n",
       "      <td>2.771353</td>\n",
       "      <td>2.771353</td>\n",
       "      <td>2.771353</td>\n",
       "      <td>0.000000</td>\n",
       "    </tr>\n",
       "  </tbody>\n",
       "</table>\n",
       "<p>40000 rows × 5 columns</p>\n",
       "</div>"
      ]
     },
     "execution_count": 12,
     "metadata": {},
     "output_type": "execute_result"
    }
   ],
   "execution_count": 12
  },
  {
   "metadata": {
    "ExecuteTime": {
     "end_time": "2024-06-06T09:34:59.794075Z",
     "start_time": "2024-06-06T09:34:57.708350Z"
    }
   },
   "cell_type": "code",
   "source": "%timeit medfilt(df.input.values, windsize)",
   "id": "87ebcaf5f73fe58f",
   "outputs": [
    {
     "name": "stdout",
     "output_type": "stream",
     "text": [
      "25.6 ms ± 1.88 ms per loop (mean ± std. dev. of 7 runs, 10 loops each)\n"
     ]
    }
   ],
   "execution_count": 13
  },
  {
   "metadata": {
    "ExecuteTime": {
     "end_time": "2024-06-06T09:34:59.828698Z",
     "start_time": "2024-06-06T09:34:59.797058Z"
    }
   },
   "cell_type": "code",
   "source": [
    "ref_med = medfilt(df.input, windsize)[windsize//2:-windsize//2]\n",
    "current_med = df['median'].values[windsize//2:-windsize//2]\n",
    "assert (ref_med == current_med).all()"
   ],
   "id": "2efa15e3eb2ed2cc",
   "outputs": [],
   "execution_count": 14
  },
  {
   "metadata": {
    "ExecuteTime": {
     "end_time": "2024-06-06T09:35:09.495419Z",
     "start_time": "2024-06-06T09:34:59.830786Z"
    }
   },
   "cell_type": "code",
   "source": [
    "current_mad = df['MAD'].values[windsize//2:-windsize//2]\n",
    "ref_mad = df.input.rolling(windsize, center=True).apply(lambda x: np.median(np.abs(x - np.median(x)))).squeeze().values[windsize//2:-windsize//2]\n",
    "assert np.abs(current_mad - ref_mad).__le__(2e-15).all()"
   ],
   "id": "3620c1e3efc9a16d",
   "outputs": [],
   "execution_count": 15
  },
  {
   "metadata": {
    "ExecuteTime": {
     "end_time": "2024-06-06T09:35:09.646147Z",
     "start_time": "2024-06-06T09:35:09.497602Z"
    }
   },
   "cell_type": "code",
   "source": [
    "plt.plot(df.loc[500:1000, 'input'])\n",
    "plt.plot(df.loc[500:1000, 'output'])\n",
    "plt.plot(df.loc[500:1000, 'input'] - df.loc[500:1000, 'output'])\n",
    "plt.grid()\n",
    "plt.show()"
   ],
   "id": "6d70df001da87a0f",
   "outputs": [
    {
     "data": {
      "text/plain": [
       "<Figure size 640x480 with 1 Axes>"
      ],
      "image/png": "[encoded data removed]"
     },
     "metadata": {},
     "output_type": "display_data"
    }
   ],
   "execution_count": 16
  }
 ],
 "metadata": {
  "kernelspec": {
   "display_name": "venvJupter",
   "language": "python",
   "name": "venvjupter"
  },
  "language_info": {
   "codemirror_mode": {
    "name": "ipython",
    "version": 2
   },
   "file_extension": ".py",
   "mimetype": "text/x-python",
   "name": "python",
   "nbconvert_exporter": "python",
   "pygments_lexer": "ipython2",
   "version": "2.7.6"
  }
 },
 "nbformat": 4,
 "nbformat_minor": 5
}
