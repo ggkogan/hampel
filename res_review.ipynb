{
 "cells": [
  {
   "metadata": {
    "ExecuteTime": {
     "end_time": "2024-06-06T05:33:04.920410Z",
     "start_time": "2024-06-06T05:33:04.916569Z"
    }
   },
   "cell_type": "code",
   "source": [
    "import pandas as pd\n",
    "import numpy as np\n",
    "from scipy.signal import medfilt\n",
    "import matplotlib.pyplot as plt"
   ],
   "id": "1e70828b1469ca2e",
   "outputs": [],
   "execution_count": 63
  },
  {
   "metadata": {
    "ExecuteTime": {
     "end_time": "2024-06-06T06:12:20.980921Z",
     "start_time": "2024-06-06T06:12:20.927934Z"
    }
   },
   "cell_type": "code",
   "source": [
    "df = pd.read_csv('output.csv', float_precision='high')\n",
    "df"
   ],
   "id": "db156edc5a0e2e43",
   "outputs": [
    {
     "data": {
      "text/plain": [
       "          Time     Input    Output    Median       MAD\n",
       "0      0.00000 -4.585333 -4.585333 -4.585333  0.000000\n",
       "1      0.00005 -3.107299 -3.107299 -3.130063  0.096922\n",
       "2      0.00010 -3.099761 -3.099761 -3.116114  0.068965\n",
       "3      0.00015 -3.130063 -3.130063 -3.111819  0.032182\n",
       "4      0.00020 -3.033141 -3.107299 -3.107299  0.027662\n",
       "...        ...       ...       ...       ...       ...\n",
       "39995  1.99975  2.756957  2.756957  2.733691  0.023623\n",
       "39996  1.99980  2.726058  2.726058  2.741503  0.029850\n",
       "39997  1.99985  2.675930  2.751100  2.751100  0.020253\n",
       "39998  1.99990  2.751100  2.751100  2.756957  0.014395\n",
       "39999  1.99995  2.771353  2.771353  2.771353  0.000000\n",
       "\n",
       "[40000 rows x 5 columns]"
      ],
      "text/html": [
       "<div>\n",
       "<style scoped>\n",
       "    .dataframe tbody tr th:only-of-type {\n",
       "        vertical-align: middle;\n",
       "    }\n",
       "\n",
       "    .dataframe tbody tr th {\n",
       "        vertical-align: top;\n",
       "    }\n",
       "\n",
       "    .dataframe thead th {\n",
       "        text-align: right;\n",
       "    }\n",
       "</style>\n",
       "<table border=\"1\" class=\"dataframe\">\n",
       "  <thead>\n",
       "    <tr style=\"text-align: right;\">\n",
       "      <th></th>\n",
       "      <th>Time</th>\n",
       "      <th>Input</th>\n",
       "      <th>Output</th>\n",
       "      <th>Median</th>\n",
       "      <th>MAD</th>\n",
       "    </tr>\n",
       "  </thead>\n",
       "  <tbody>\n",
       "    <tr>\n",
       "      <th>0</th>\n",
       "      <td>0.00000</td>\n",
       "      <td>-4.585333</td>\n",
       "      <td>-4.585333</td>\n",
       "      <td>-4.585333</td>\n",
       "      <td>0.000000</td>\n",
       "    </tr>\n",
       "    <tr>\n",
       "      <th>1</th>\n",
       "      <td>0.00005</td>\n",
       "      <td>-3.107299</td>\n",
       "      <td>-3.107299</td>\n",
       "      <td>-3.130063</td>\n",
       "      <td>0.096922</td>\n",
       "    </tr>\n",
       "    <tr>\n",
       "      <th>2</th>\n",
       "      <td>0.00010</td>\n",
       "      <td>-3.099761</td>\n",
       "      <td>-3.099761</td>\n",
       "      <td>-3.116114</td>\n",
       "      <td>0.068965</td>\n",
       "    </tr>\n",
       "    <tr>\n",
       "      <th>3</th>\n",
       "      <td>0.00015</td>\n",
       "      <td>-3.130063</td>\n",
       "      <td>-3.130063</td>\n",
       "      <td>-3.111819</td>\n",
       "      <td>0.032182</td>\n",
       "    </tr>\n",
       "    <tr>\n",
       "      <th>4</th>\n",
       "      <td>0.00020</td>\n",
       "      <td>-3.033141</td>\n",
       "      <td>-3.107299</td>\n",
       "      <td>-3.107299</td>\n",
       "      <td>0.027662</td>\n",
       "    </tr>\n",
       "    <tr>\n",
       "      <th>...</th>\n",
       "      <td>...</td>\n",
       "      <td>...</td>\n",
       "      <td>...</td>\n",
       "      <td>...</td>\n",
       "      <td>...</td>\n",
       "    </tr>\n",
       "    <tr>\n",
       "      <th>39995</th>\n",
       "      <td>1.99975</td>\n",
       "      <td>2.756957</td>\n",
       "      <td>2.756957</td>\n",
       "      <td>2.733691</td>\n",
       "      <td>0.023623</td>\n",
       "    </tr>\n",
       "    <tr>\n",
       "      <th>39996</th>\n",
       "      <td>1.99980</td>\n",
       "      <td>2.726058</td>\n",
       "      <td>2.726058</td>\n",
       "      <td>2.741503</td>\n",
       "      <td>0.029850</td>\n",
       "    </tr>\n",
       "    <tr>\n",
       "      <th>39997</th>\n",
       "      <td>1.99985</td>\n",
       "      <td>2.675930</td>\n",
       "      <td>2.751100</td>\n",
       "      <td>2.751100</td>\n",
       "      <td>0.020253</td>\n",
       "    </tr>\n",
       "    <tr>\n",
       "      <th>39998</th>\n",
       "      <td>1.99990</td>\n",
       "      <td>2.751100</td>\n",
       "      <td>2.751100</td>\n",
       "      <td>2.756957</td>\n",
       "      <td>0.014395</td>\n",
       "    </tr>\n",
       "    <tr>\n",
       "      <th>39999</th>\n",
       "      <td>1.99995</td>\n",
       "      <td>2.771353</td>\n",
       "      <td>2.771353</td>\n",
       "      <td>2.771353</td>\n",
       "      <td>0.000000</td>\n",
       "    </tr>\n",
       "  </tbody>\n",
       "</table>\n",
       "<p>40000 rows × 5 columns</p>\n",
       "</div>"
      ]
     },
     "execution_count": 102,
     "metadata": {},
     "output_type": "execute_result"
    }
   ],
   "execution_count": 102
  },
  {
   "metadata": {
    "ExecuteTime": {
     "end_time": "2024-06-06T06:12:24.335814Z",
     "start_time": "2024-06-06T06:12:24.191862Z"
    }
   },
   "cell_type": "code",
   "source": [
    "plt.plot(medfilt(df.iloc[:, 1], 11)[5:-5] - df.iloc[5:-5, 3])\n",
    "# plot = plt.plot(in_ - out_)\n",
    "plt.grid()\n",
    "plt.show()"
   ],
   "id": "2efa15e3eb2ed2cc",
   "outputs": [
    {
     "data": {
      "text/plain": [
       "<Figure size 640x480 with 1 Axes>"
      ],
      "image/png": "[encoded data removed]"
     },
     "metadata": {},
     "output_type": "display_data"
    }
   ],
   "execution_count": 103
  },
  {
   "metadata": {
    "ExecuteTime": {
     "end_time": "2024-06-06T06:12:35.834838Z",
     "start_time": "2024-06-06T06:12:26.379309Z"
    }
   },
   "cell_type": "code",
   "source": "q = df.iloc[:, 1].rolling(11, center=True).apply(lambda x: np.median(np.abs(x - np.median(x)))).squeeze().values",
   "id": "b2bae4419d4ebbd8",
   "outputs": [],
   "execution_count": 104
  },
  {
   "metadata": {
    "ExecuteTime": {
     "end_time": "2024-06-06T06:12:46.663227Z",
     "start_time": "2024-06-06T06:12:46.409931Z"
    }
   },
   "cell_type": "code",
   "source": [
    "plt.plot(df.iloc[:, -1] - q)\n",
    "# plt.plot(q)\n",
    "# plot = plt.plot(df.iloc[:, -1])\n",
    "# plt.xlim([0, 100])\n",
    "plt.grid()\n",
    "plt.show()"
   ],
   "id": "3620c1e3efc9a16d",
   "outputs": [
    {
     "data": {
      "text/plain": [
       "<Figure size 640x480 with 1 Axes>"
      ],
      "image/png": "[encoded data removed]"
     },
     "metadata": {},
     "output_type": "display_data"
    }
   ],
   "execution_count": 106
  },
  {
   "metadata": {},
   "cell_type": "code",
   "outputs": [],
   "execution_count": null,
   "source": "",
   "id": "a06550f10098417f"
  }
 ],
 "metadata": {
  "kernelspec": {
   "display_name": "venvJupter",
   "language": "python",
   "name": "venvjupter"
  },
  "language_info": {
   "codemirror_mode": {
    "name": "ipython",
    "version": 2
   },
   "file_extension": ".py",
   "mimetype": "text/x-python",
   "name": "python",
   "nbconvert_exporter": "python",
   "pygments_lexer": "ipython2",
   "version": "2.7.6"
  }
 },
 "nbformat": 4,
 "nbformat_minor": 5
}
